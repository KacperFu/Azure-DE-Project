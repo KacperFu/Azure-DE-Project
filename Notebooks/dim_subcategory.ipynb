{
 "cells": [
  {
   "cell_type": "markdown",
   "metadata": {
    "application/vnd.databricks.v1+cell": {
     "cellMetadata": {
      "byteLimit": 2048000,
      "rowLimit": 10000
     },
     "inputWidgets": {},
     "nuid": "dc24f119-22f6-489a-b605-86a9c10c5e4a",
     "showTitle": false,
     "tableResultSettingsMap": {},
     "title": ""
    }
   },
   "source": [
    "# Dimension Modeling"
   ]
  },
  {
   "cell_type": "markdown",
   "metadata": {
    "application/vnd.databricks.v1+cell": {
     "cellMetadata": {
      "byteLimit": 2048000,
      "rowLimit": 10000
     },
     "inputWidgets": {},
     "nuid": "cd4a4b44-0e7b-4d7a-9131-0e2fae3b3c3d",
     "showTitle": false,
     "tableResultSettingsMap": {},
     "title": ""
    }
   },
   "source": [
    "## Dim_model Sink - Initial and Incremental run"
   ]
  },
  {
   "cell_type": "code",
   "execution_count": 0,
   "metadata": {
    "application/vnd.databricks.v1+cell": {
     "cellMetadata": {
      "byteLimit": 2048000,
      "implicitDf": true,
      "rowLimit": 10000
     },
     "inputWidgets": {},
     "nuid": "54c20a42-c77d-4232-831e-dcc17c946cca",
     "showTitle": false,
     "tableResultSettingsMap": {},
     "title": ""
    }
   },
   "outputs": [
    {
     "output_type": "display_data",
     "data": {
      "text/html": [
       "<style scoped>\n",
       "  .table-result-container {\n",
       "    max-height: 300px;\n",
       "    overflow: auto;\n",
       "  }\n",
       "  table, th, td {\n",
       "    border: 1px solid black;\n",
       "    border-collapse: collapse;\n",
       "  }\n",
       "  th, td {\n",
       "    padding: 5px;\n",
       "  }\n",
       "  th {\n",
       "    text-align: left;\n",
       "  }\n",
       "</style><div class='table-result-container'><table class='table-result'><thead style='background-color: white'><tr><th>subcategory_id</th><th>subcategory_key</th><th>subcategory_name</th><th>is_current</th><th>start_date</th><th>end_date</th></tr></thead><tbody><tr><td>1</td><td>101</td><td>MP4&MP3</td><td>1</td><td>2025-01-16</td><td>null</td></tr><tr><td>2</td><td>104</td><td>Recording Pen</td><td>1</td><td>2025-01-16</td><td>null</td></tr><tr><td>3</td><td>106</td><td>Bluetooth Headphones</td><td>1</td><td>2025-01-16</td><td>null</td></tr><tr><td>4</td><td>201</td><td>Televisions</td><td>1</td><td>2025-01-16</td><td>null</td></tr><tr><td>5</td><td>202</td><td>VCD & DVD</td><td>1</td><td>2025-01-16</td><td>null</td></tr><tr><td>6</td><td>203</td><td>Home Theater System</td><td>1</td><td>2025-01-16</td><td>null</td></tr><tr><td>7</td><td>205</td><td>Car Video</td><td>1</td><td>2025-01-16</td><td>null</td></tr><tr><td>9</td><td>303</td><td>Desktops</td><td>1</td><td>2025-01-16</td><td>null</td></tr><tr><td>10</td><td>304</td><td>Monitors</td><td>1</td><td>2025-01-16</td><td>null</td></tr><tr><td>11</td><td>305</td><td>Projectors & Screens</td><td>1</td><td>2025-01-16</td><td>null</td></tr><tr><td>12</td><td>306</td><td>Printers, Scanners & Fax</td><td>1</td><td>2025-01-16</td><td>null</td></tr><tr><td>13</td><td>308</td><td>Computers Accessories</td><td>1</td><td>2025-01-16</td><td>null</td></tr><tr><td>14</td><td>401</td><td>Digital Cameras</td><td>1</td><td>2025-01-16</td><td>null</td></tr><tr><td>15</td><td>402</td><td>Digital SLR Cameras</td><td>1</td><td>2025-01-16</td><td>null</td></tr><tr><td>16</td><td>405</td><td>Camcorders</td><td>1</td><td>2025-01-16</td><td>null</td></tr><tr><td>17</td><td>406</td><td>Cameras & Camcorders Accessories</td><td>1</td><td>2025-01-16</td><td>null</td></tr><tr><td>18</td><td>501</td><td>Home & Office Phones</td><td>1</td><td>2025-01-16</td><td>null</td></tr><tr><td>19</td><td>503</td><td>Touch Screen Phones </td><td>1</td><td>2025-01-16</td><td>null</td></tr><tr><td>20</td><td>504</td><td>Smart phones & PDAs </td><td>1</td><td>2025-01-16</td><td>null</td></tr><tr><td>21</td><td>505</td><td>Cell phones Accessories</td><td>1</td><td>2025-01-16</td><td>null</td></tr><tr><td>22</td><td>602</td><td>Movie DVD</td><td>1</td><td>2025-01-16</td><td>null</td></tr><tr><td>23</td><td>701</td><td>Boxed Games</td><td>1</td><td>2025-01-16</td><td>null</td></tr><tr><td>24</td><td>702</td><td>Download Games</td><td>1</td><td>2025-01-16</td><td>null</td></tr><tr><td>25</td><td>801</td><td>Washers & Dryers</td><td>1</td><td>2025-01-16</td><td>null</td></tr><tr><td>26</td><td>802</td><td>Refrigerators</td><td>1</td><td>2025-01-16</td><td>null</td></tr><tr><td>27</td><td>803</td><td>Microwaves</td><td>1</td><td>2025-01-16</td><td>null</td></tr><tr><td>28</td><td>804</td><td>Water Heaters</td><td>1</td><td>2025-01-16</td><td>null</td></tr><tr><td>29</td><td>805</td><td>Coffee Machines</td><td>1</td><td>2025-01-16</td><td>null</td></tr><tr><td>30</td><td>806</td><td>Lamps</td><td>1</td><td>2025-01-16</td><td>null</td></tr><tr><td>31</td><td>807</td><td>Air Conditioners</td><td>1</td><td>2025-01-16</td><td>null</td></tr><tr><td>32</td><td>808</td><td>Fans</td><td>1</td><td>2025-01-16</td><td>null</td></tr><tr><td>34</td><td>301</td><td>NEW_Laptops</td><td>1</td><td>2025-01-16</td><td>null</td></tr><tr><td>8</td><td>301</td><td>Laptops</td><td>0</td><td>2025-01-16</td><td>2025-01-15</td></tr></tbody></table></div>"
      ]
     },
     "metadata": {
      "application/vnd.databricks.v1+output": {
       "addedWidgets": {},
       "aggData": [],
       "aggError": "",
       "aggOverflow": false,
       "aggSchema": [],
       "aggSeriesLimitReached": false,
       "aggType": "",
       "arguments": {},
       "columnCustomDisplayInfos": {},
       "data": [
        [
         1,
         101,
         "MP4&MP3",
         1,
         "2025-01-16",
         null
        ],
        [
         2,
         104,
         "Recording Pen",
         1,
         "2025-01-16",
         null
        ],
        [
         3,
         106,
         "Bluetooth Headphones",
         1,
         "2025-01-16",
         null
        ],
        [
         4,
         201,
         "Televisions",
         1,
         "2025-01-16",
         null
        ],
        [
         5,
         202,
         "VCD & DVD",
         1,
         "2025-01-16",
         null
        ],
        [
         6,
         203,
         "Home Theater System",
         1,
         "2025-01-16",
         null
        ],
        [
         7,
         205,
         "Car Video",
         1,
         "2025-01-16",
         null
        ],
        [
         9,
         303,
         "Desktops",
         1,
         "2025-01-16",
         null
        ],
        [
         10,
         304,
         "Monitors",
         1,
         "2025-01-16",
         null
        ],
        [
         11,
         305,
         "Projectors & Screens",
         1,
         "2025-01-16",
         null
        ],
        [
         12,
         306,
         "Printers, Scanners & Fax",
         1,
         "2025-01-16",
         null
        ],
        [
         13,
         308,
         "Computers Accessories",
         1,
         "2025-01-16",
         null
        ],
        [
         14,
         401,
         "Digital Cameras",
         1,
         "2025-01-16",
         null
        ],
        [
         15,
         402,
         "Digital SLR Cameras",
         1,
         "2025-01-16",
         null
        ],
        [
         16,
         405,
         "Camcorders",
         1,
         "2025-01-16",
         null
        ],
        [
         17,
         406,
         "Cameras & Camcorders Accessories",
         1,
         "2025-01-16",
         null
        ],
        [
         18,
         501,
         "Home & Office Phones",
         1,
         "2025-01-16",
         null
        ],
        [
         19,
         503,
         "Touch Screen Phones ",
         1,
         "2025-01-16",
         null
        ],
        [
         20,
         504,
         "Smart phones & PDAs ",
         1,
         "2025-01-16",
         null
        ],
        [
         21,
         505,
         "Cell phones Accessories",
         1,
         "2025-01-16",
         null
        ],
        [
         22,
         602,
         "Movie DVD",
         1,
         "2025-01-16",
         null
        ],
        [
         23,
         701,
         "Boxed Games",
         1,
         "2025-01-16",
         null
        ],
        [
         24,
         702,
         "Download Games",
         1,
         "2025-01-16",
         null
        ],
        [
         25,
         801,
         "Washers & Dryers",
         1,
         "2025-01-16",
         null
        ],
        [
         26,
         802,
         "Refrigerators",
         1,
         "2025-01-16",
         null
        ],
        [
         27,
         803,
         "Microwaves",
         1,
         "2025-01-16",
         null
        ],
        [
         28,
         804,
         "Water Heaters",
         1,
         "2025-01-16",
         null
        ],
        [
         29,
         805,
         "Coffee Machines",
         1,
         "2025-01-16",
         null
        ],
        [
         30,
         806,
         "Lamps",
         1,
         "2025-01-16",
         null
        ],
        [
         31,
         807,
         "Air Conditioners",
         1,
         "2025-01-16",
         null
        ],
        [
         32,
         808,
         "Fans",
         1,
         "2025-01-16",
         null
        ],
        [
         34,
         301,
         "NEW_Laptops",
         1,
         "2025-01-16",
         null
        ],
        [
         8,
         301,
         "Laptops",
         0,
         "2025-01-16",
         "2025-01-15"
        ]
       ],
       "datasetInfos": [],
       "dbfsResultPath": null,
       "isJsonSchema": true,
       "metadata": {},
       "overflow": false,
       "plotOptions": {
        "customPlotOptions": {},
        "displayType": "table",
        "pivotAggregation": null,
        "pivotColumns": null,
        "xColumns": null,
        "yColumns": null
       },
       "removedWidgets": [],
       "schema": [
        {
         "metadata": "{}",
         "name": "subcategory_id",
         "type": "\"integer\""
        },
        {
         "metadata": "{}",
         "name": "subcategory_key",
         "type": "\"integer\""
        },
        {
         "metadata": "{}",
         "name": "subcategory_name",
         "type": "\"string\""
        },
        {
         "metadata": "{}",
         "name": "is_current",
         "type": "\"integer\""
        },
        {
         "metadata": "{}",
         "name": "start_date",
         "type": "\"date\""
        },
        {
         "metadata": "{}",
         "name": "end_date",
         "type": "\"date\""
        }
       ],
       "type": "table"
      }
     },
     "output_type": "display_data"
    }
   ],
   "source": [
    "from pyspark.sql import functions as F\n",
    "from pyspark.sql.types import DateType, IntegerType, LongType\n",
    "from pyspark.sql.window import Window\n",
    "\n",
    "# Get source data\n",
    "df_src = spark.sql('''\n",
    "select distinct subcategory_key, subcategory_name\n",
    "  from parquet.`abfss://silver@contosoprojectstorage.dfs.core.windows.net/contoso_sales`\n",
    "''')\n",
    "\n",
    "# Initialize target DataFrame\n",
    "if spark.catalog.tableExists('contoso_catalog.gold.dim_subcategory'):\n",
    "    df_tgt = spark.sql('''\n",
    "        SELECT  subcategory_id, \n",
    "               subcategory_key, \n",
    "               subcategory_name,\n",
    "                is_current,\n",
    "                start_date,\n",
    "                end_date\n",
    "        FROM contoso_catalog.gold.dim_subcategory\n",
    "    ''')\n",
    "else:\n",
    "    df_tgt = df_src.withColumn(\"subcategory_id\", F.lit(0).cast(LongType()))\\\n",
    "                   .withColumn(\"is_current\", F.lit(1).cast(IntegerType()))\\\n",
    "                   .withColumn(\"start_date\", F.current_date())\\\n",
    "                   .withColumn(\"end_date\", F.lit(None).cast(DateType()))\\\n",
    "                   .filter(\"1 = 0\")  # Empty Schema\n",
    "\n",
    "def generate_surrogate_key(df, start_value):\n",
    "    w = Window.orderBy(\"subcategory_key\")\n",
    "    return df.withColumn(\"subcategory_id\", F.row_number().over(w) + F.lit(start_value))\n",
    "\n",
    "def apply_scd_type2_changes(df_src, df_tgt):\n",
    "    # Define the final column schema for consistency\n",
    "    final_columns = [\n",
    "        \"subcategory_id\", \n",
    "        \"subcategory_key\", \n",
    "        \"subcategory_name\",\n",
    "        \"is_current\",\n",
    "        \"start_date\",\n",
    "        \"end_date\"\n",
    "    ]\n",
    "\n",
    "    # Step 1: Handle empty target\n",
    "    if df_tgt.rdd.isEmpty():\n",
    "        print(\"Target DataFrame is empty. Initializing with source records.\")\n",
    "        initial_df = df_src.withColumn(\"subcategory_id\", F.lit(0).cast(LongType()))\\\n",
    "                          .withColumn(\"start_date\", F.current_date())\\\n",
    "                          .withColumn(\"end_date\", F.lit(None).cast(DateType()))\\\n",
    "                          .withColumn(\"is_current\", F.lit(1).cast(IntegerType()))\n",
    "        return generate_surrogate_key(initial_df, 0).select(final_columns)\n",
    "\n",
    "    # Step 2: Get max surrogate key\n",
    "    max_surrogate_key = df_tgt.agg(F.max(\"subcategory_id\")).collect()[0][0] or 0\n",
    "    \n",
    "    # Step 3: Join source and target\n",
    "    src = df_src.alias(\"src\")\n",
    "    tgt = df_tgt.filter(F.col(\"is_current\") == 1).alias(\"tgt\")\n",
    "    joined_df = src.join(tgt, \"subcategory_key\", \"outer\")\n",
    "\n",
    "    # Step 4: Identify new records\n",
    "    new_records = joined_df.filter(F.col(\"tgt.subcategory_id\").isNull())\\\n",
    "                          .select(\"src.*\")\n",
    "    new_records_count = new_records.count()\n",
    "\n",
    "    if new_records_count > 0:\n",
    "        new_records = generate_surrogate_key(new_records, max_surrogate_key + 1)\\\n",
    "                     .withColumn(\"start_date\", F.current_date())\\\n",
    "                     .withColumn(\"end_date\", F.lit(None).cast(DateType()))\\\n",
    "                     .withColumn(\"is_current\", F.lit(1).cast(IntegerType()))\\\n",
    "                     .select(final_columns)\n",
    "    else:\n",
    "        new_records = spark.createDataFrame([], df_tgt.schema)\n",
    "\n",
    "    # Step 5: Identify changed records\n",
    "    changed_records = joined_df.filter(\n",
    "        (F.col(\"tgt.subcategory_id\").isNotNull()) &\n",
    "        (F.coalesce(F.col(\"src.subcategory_name\") != F.col(\"tgt.subcategory_name\"), F.lit(False)))\n",
    "    )\n",
    "    changed_records_count = changed_records.count()\n",
    "\n",
    "    if changed_records_count > 0:\n",
    "        # Step 5.1: Create new versions for changed records\n",
    "        new_versions = changed_records.select(\"src.*\")\\\n",
    "                                    .withColumn(\"start_date\", F.current_date())\\\n",
    "                                    .withColumn(\"end_date\", F.lit(None).cast(DateType()))\\\n",
    "                                    .withColumn(\"is_current\", F.lit(1).cast(IntegerType()))\n",
    "        start_key = max_surrogate_key + new_records_count + 1\n",
    "        new_versions = generate_surrogate_key(new_versions, start_key).select(final_columns)\n",
    "\n",
    "        # Step 5.2: Close old versions\n",
    "        old_versions = df_tgt.join(\n",
    "            changed_records.select(\"subcategory_key\"), \"subcategory_key\", \"inner\"\n",
    "        ).withColumn(\"end_date\", F.when(\n",
    "            F.col(\"is_current\") == 1, F.date_sub(F.current_date(), 1)\n",
    "        ).otherwise(F.col(\"end_date\")))\\\n",
    "         .withColumn(\"is_current\", F.lit(0))\\\n",
    "         .select(final_columns)\n",
    "    else:\n",
    "        new_versions = spark.createDataFrame([], df_tgt.schema)\n",
    "        old_versions = spark.createDataFrame([], df_tgt.schema)\n",
    "\n",
    "    # Step 6: Unchanged records\n",
    "    unchanged_records = df_tgt.join(\n",
    "        changed_records.select(\"subcategory_key\"), \"subcategory_key\", \"leftanti\"\n",
    "    ).select(final_columns)\n",
    "\n",
    "    # Step 7: Combine results\n",
    "    final_df = unchanged_records.union(new_versions).union(old_versions).union(new_records)\n",
    "\n",
    "    return final_df.select(final_columns)\n",
    "\n",
    "# Apply SCD Type 2 changes\n",
    "result_df = apply_scd_type2_changes(df_src, df_tgt)\n",
    "display(result_df)"
   ]
  },
  {
   "cell_type": "markdown",
   "metadata": {
    "application/vnd.databricks.v1+cell": {
     "cellMetadata": {
      "byteLimit": 2048000,
      "rowLimit": 10000
     },
     "inputWidgets": {},
     "nuid": "0613a47e-1013-4993-b6ba-3ea6419f6fc4",
     "showTitle": false,
     "tableResultSettingsMap": {},
     "title": ""
    }
   },
   "source": [
    "## Write data to catalog"
   ]
  },
  {
   "cell_type": "code",
   "execution_count": 0,
   "metadata": {
    "application/vnd.databricks.v1+cell": {
     "cellMetadata": {
      "byteLimit": 2048000,
      "rowLimit": 10000
     },
     "inputWidgets": {},
     "nuid": "740b97f5-a3de-4e45-a0f4-c7aa501bd8c9",
     "showTitle": false,
     "tableResultSettingsMap": {},
     "title": ""
    }
   },
   "outputs": [],
   "source": [
    "result_df.write.format('delta')\\\n",
    "                .mode('overwrite')\\\n",
    "                    .option('path', 'abfss://gold@contosoprojectstorage.dfs.core.windows.net/dim_subcategory')\\\n",
    "                        .saveAsTable('contoso_catalog.gold.dim_subcategory')"
   ]
  }
 ],
 "metadata": {
  "application/vnd.databricks.v1+notebook": {
   "computePreferences": null,
   "dashboards": [],
   "environmentMetadata": {
    "base_environment": "",
    "client": "1"
   },
   "language": "python",
   "notebookMetadata": {
    "mostRecentlyExecutedCommandWithImplicitDF": {
     "commandId": 240591878412930,
     "dataframes": [
      "_sqldf"
     ]
    },
    "pythonIndentUnit": 4
   },
   "notebookName": "dim_subcategory",
   "widgets": {}
  },
  "language_info": {
   "name": "python"
  }
 },
 "nbformat": 4,
 "nbformat_minor": 0
}