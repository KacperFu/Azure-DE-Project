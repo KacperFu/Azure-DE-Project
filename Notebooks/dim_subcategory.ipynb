{
 "cells": [
  {
   "cell_type": "markdown",
   "metadata": {
    "application/vnd.databricks.v1+cell": {
     "cellMetadata": {
      "byteLimit": 2048000,
      "rowLimit": 10000
     },
     "inputWidgets": {},
     "nuid": "dc24f119-22f6-489a-b605-86a9c10c5e4a",
     "showTitle": false,
     "tableResultSettingsMap": {},
     "title": ""
    }
   },
   "source": [
    "# Dimension Modeling"
   ]
  },
  {
   "cell_type": "markdown",
   "metadata": {
    "application/vnd.databricks.v1+cell": {
     "cellMetadata": {
      "byteLimit": 2048000,
      "rowLimit": 10000
     },
     "inputWidgets": {},
     "nuid": "cd4a4b44-0e7b-4d7a-9131-0e2fae3b3c3d",
     "showTitle": false,
     "tableResultSettingsMap": {},
     "title": ""
    }
   },
   "source": [
    "## Dim_model Sink - Initial and Incremental run"
   ]
  },
  {
   "cell_type": "code",
   "execution_count": 0,
   "metadata": {
    "application/vnd.databricks.v1+cell": {
     "cellMetadata": {
      "byteLimit": 2048000,
      "implicitDf": true,
      "rowLimit": 10000
     },
     "inputWidgets": {},
     "nuid": "54c20a42-c77d-4232-831e-dcc17c946cca",
     "showTitle": false,
     "tableResultSettingsMap": {},
     "title": ""
    }
   },
   "outputs": [
    {
     "output_type": "display_data",
     "data": {
      "text/html": [
       "<style scoped>\n",
       "  .table-result-container {\n",
       "    max-height: 300px;\n",
       "    overflow: auto;\n",
       "  }\n",
       "  table, th, td {\n",
       "    border: 1px solid black;\n",
       "    border-collapse: collapse;\n",
       "  }\n",
       "  th, td {\n",
       "    padding: 5px;\n",
       "  }\n",
       "  th {\n",
       "    text-align: left;\n",
       "  }\n",
       "</style><div class='table-result-container'><table class='table-result'><thead style='background-color: white'><tr><th>subcategory_id</th><th>subcategory_key</th><th>subcategory_name</th></tr></thead><tbody><tr><td>1</td><td>101</td><td>MP4&MP3</td></tr><tr><td>2</td><td>104</td><td>Recording Pen</td></tr><tr><td>3</td><td>106</td><td>Bluetooth Headphones</td></tr><tr><td>4</td><td>201</td><td>Televisions</td></tr><tr><td>5</td><td>202</td><td>VCD & DVD</td></tr><tr><td>6</td><td>203</td><td>Home Theater System</td></tr><tr><td>7</td><td>205</td><td>Car Video</td></tr><tr><td>8</td><td>301</td><td>Laptops</td></tr><tr><td>9</td><td>303</td><td>Desktops</td></tr><tr><td>10</td><td>304</td><td>Monitors</td></tr><tr><td>11</td><td>305</td><td>Projectors & Screens</td></tr><tr><td>12</td><td>306</td><td>Printers, Scanners & Fax</td></tr><tr><td>13</td><td>308</td><td>Computers Accessories</td></tr><tr><td>14</td><td>401</td><td>Digital Cameras</td></tr><tr><td>15</td><td>402</td><td>Digital SLR Cameras</td></tr><tr><td>16</td><td>405</td><td>Camcorders</td></tr><tr><td>17</td><td>406</td><td>Cameras & Camcorders Accessories</td></tr><tr><td>18</td><td>501</td><td>Home & Office Phones</td></tr><tr><td>19</td><td>503</td><td>Touch Screen Phones </td></tr><tr><td>20</td><td>504</td><td>Smart phones & PDAs </td></tr><tr><td>21</td><td>505</td><td>Cell phones Accessories</td></tr><tr><td>22</td><td>602</td><td>Movie DVD</td></tr><tr><td>23</td><td>701</td><td>Boxed Games</td></tr><tr><td>24</td><td>702</td><td>Download Games</td></tr><tr><td>25</td><td>801</td><td>Washers & Dryers</td></tr><tr><td>26</td><td>802</td><td>Refrigerators</td></tr><tr><td>27</td><td>803</td><td>Microwaves</td></tr><tr><td>28</td><td>804</td><td>Water Heaters</td></tr><tr><td>29</td><td>805</td><td>Coffee Machines</td></tr><tr><td>30</td><td>806</td><td>Lamps</td></tr><tr><td>31</td><td>807</td><td>Air Conditioners</td></tr><tr><td>32</td><td>808</td><td>Fans</td></tr></tbody></table></div>"
      ]
     },
     "metadata": {
      "application/vnd.databricks.v1+output": {
       "addedWidgets": {},
       "aggData": [],
       "aggError": "",
       "aggOverflow": false,
       "aggSchema": [],
       "aggSeriesLimitReached": false,
       "aggType": "",
       "arguments": {},
       "columnCustomDisplayInfos": {},
       "data": [
        [
         1,
         101,
         "MP4&MP3"
        ],
        [
         2,
         104,
         "Recording Pen"
        ],
        [
         3,
         106,
         "Bluetooth Headphones"
        ],
        [
         4,
         201,
         "Televisions"
        ],
        [
         5,
         202,
         "VCD & DVD"
        ],
        [
         6,
         203,
         "Home Theater System"
        ],
        [
         7,
         205,
         "Car Video"
        ],
        [
         8,
         301,
         "Laptops"
        ],
        [
         9,
         303,
         "Desktops"
        ],
        [
         10,
         304,
         "Monitors"
        ],
        [
         11,
         305,
         "Projectors & Screens"
        ],
        [
         12,
         306,
         "Printers, Scanners & Fax"
        ],
        [
         13,
         308,
         "Computers Accessories"
        ],
        [
         14,
         401,
         "Digital Cameras"
        ],
        [
         15,
         402,
         "Digital SLR Cameras"
        ],
        [
         16,
         405,
         "Camcorders"
        ],
        [
         17,
         406,
         "Cameras & Camcorders Accessories"
        ],
        [
         18,
         501,
         "Home & Office Phones"
        ],
        [
         19,
         503,
         "Touch Screen Phones "
        ],
        [
         20,
         504,
         "Smart phones & PDAs "
        ],
        [
         21,
         505,
         "Cell phones Accessories"
        ],
        [
         22,
         602,
         "Movie DVD"
        ],
        [
         23,
         701,
         "Boxed Games"
        ],
        [
         24,
         702,
         "Download Games"
        ],
        [
         25,
         801,
         "Washers & Dryers"
        ],
        [
         26,
         802,
         "Refrigerators"
        ],
        [
         27,
         803,
         "Microwaves"
        ],
        [
         28,
         804,
         "Water Heaters"
        ],
        [
         29,
         805,
         "Coffee Machines"
        ],
        [
         30,
         806,
         "Lamps"
        ],
        [
         31,
         807,
         "Air Conditioners"
        ],
        [
         32,
         808,
         "Fans"
        ]
       ],
       "datasetInfos": [],
       "dbfsResultPath": null,
       "isJsonSchema": true,
       "metadata": {},
       "overflow": false,
       "plotOptions": {
        "customPlotOptions": {},
        "displayType": "table",
        "pivotAggregation": null,
        "pivotColumns": null,
        "xColumns": null,
        "yColumns": null
       },
       "removedWidgets": [],
       "schema": [
        {
         "metadata": "{}",
         "name": "subcategory_id",
         "type": "\"integer\""
        },
        {
         "metadata": "{}",
         "name": "subcategory_key",
         "type": "\"integer\""
        },
        {
         "metadata": "{}",
         "name": "subcategory_name",
         "type": "\"string\""
        }
       ],
       "type": "table"
      }
     },
     "output_type": "display_data"
    }
   ],
   "source": [
    "from pyspark.sql import functions as F\n",
    "from pyspark.sql.types import DateType, IntegerType, LongType\n",
    "from pyspark.sql.window import Window\n",
    "\n",
    "# Get source data\n",
    "df_src = spark.sql('''\n",
    "    SELECT DISTINCT             subcategory_key,\n",
    "                                subcategory_name\n",
    "    FROM parquet.`abfss://silver@contosoprojectstorage.dfs.core.windows.net/contoso_sales`\n",
    "''')\n",
    "\n",
    "# Initialize target DataFrame\n",
    "if spark.catalog.tableExists('contoso_catalog.gold.dim_sub'):\n",
    "    df_tgt = spark.sql('''\n",
    "    SELECT                      subcategory_id, \n",
    "                                subcategory_key,\n",
    "                                subcategory_name\n",
    "        FROM contoso_catalog.gold.dim_sub\n",
    "    ''')\n",
    "else:\n",
    "    df_tgt = df_src.withColumn(\"subcategory_id\", F.lit(0).cast(LongType()))\\\n",
    "                   .withColumn(\"is_current\", F.lit(1).cast(IntegerType()))\\\n",
    "                   .withColumn(\"start_date\", F.current_date())\\\n",
    "                   .withColumn(\"end_date\", F.lit(None).cast(DateType()))\\\n",
    "                   .filter(\"1 = 0\")  # Empty Schema\n",
    "\n",
    "def generate_surrogate_key(df, start_value):\n",
    "    w = Window.orderBy(\"subcategory_key\")\n",
    "    return df.withColumn(\"subcategory_id\", F.row_number().over(w) + F.lit(start_value))\n",
    "\n",
    "def apply_scd_type2_changes(df_src, df_tgt):\n",
    "    if df_tgt.rdd.isEmpty():\n",
    "        return generate_surrogate_key(df_src, 0)\\\n",
    "               .withColumn(\"start_date\", F.current_date())\\\n",
    "               .withColumn(\"end_date\", F.lit(None).cast(DateType()))\\\n",
    "               .withColumn(\"is_current\", F.lit(1).cast(IntegerType()))\n",
    "\n",
    "    max_surrogate_key = df_tgt.agg(F.max(\"subcategory_id\")).collect()[0][0]\n",
    "    \n",
    "    src = df_src.alias(\"src\")\n",
    "    tgt = df_tgt.filter(F.col(\"is_current\") == 1).alias(\"tgt\")\n",
    "    \n",
    "    joined_df = src.join(tgt, \"subcategory_key\", \"outer\")\n",
    "    \n",
    "    new_records = joined_df.filter(F.col(\"tgt.subcategory_id\").isNull())\n",
    "    new_records_count = new_records.count()\n",
    "    \n",
    "    if new_records.count() > 0:\n",
    "        new_records = generate_surrogate_key(new_records, max_surrogate_key + 1)\\\n",
    "                     .withColumn(\"start_date\", F.current_date())\\\n",
    "                     .withColumn(\"end_date\", F.lit(None).cast(DateType()))\\\n",
    "                     .withColumn(\"is_current\", F.lit(1).cast(IntegerType()))\n",
    "\n",
    "    changed_records = joined_df.filter((F.col(\"tgt.subcategory_id\").isNotNull()) &\n",
    "                                       \n",
    "                                        (F.coalesce(src.subcategory_name != tgt.subcategory_name, F.lit(False)))\n",
    "                                        \n",
    "                                        )   \n",
    "    \n",
    "    changed_records_count = changed_records.count()\n",
    "    \n",
    "    if new_records_count == 0 and changed_records_count == 0:\n",
    "        return df_tgt\n",
    "    \n",
    "    if new_records_count > 0:\n",
    "        new_records = generate_surrogate_key(new_records, max_surrogate_key + 1)\\\n",
    "                     .withColumn(\"start_date\", F.current_date())\\\n",
    "                     .withColumn(\"end_date\", F.lit(None).cast(DateType()))\\\n",
    "                     .withColumn(\"is_current\", F.lit(1).cast(IntegerType()))\n",
    "    \n",
    "    if changed_records_count > 0:\n",
    "        new_versions = changed_records.select(\n",
    "            \"src.*\"\n",
    "        ).drop(\"subcategory_id\", \"start_date\", \"end_date\", \"is_current\")\n",
    "        \n",
    "        start_key = max_surrogate_key + new_records_count + 1\n",
    "        new_versions = generate_surrogate_key(new_versions, start_key)\\\n",
    "                      .withColumn(\"start_date\", F.current_date())\\\n",
    "                      .withColumn(\"end_date\", F.lit(None).cast(DateType()))\\\n",
    "                      .withColumn(\"is_current\", F.lit(1).cast(IntegerType()))\n",
    "\n",
    "        old_versions = df_tgt.join(changed_records.select(\"subcategory_key\"), \"subcategory_key\", \"inner\")\\\n",
    "                            .withColumn(\"end_date\", F.when(F.col(\"is_current\") == 1, F.date_sub(F.current_date(), 1)).otherwise(F.col(\"end_date\")))\\\n",
    "                            .withColumn(\"is_current\", F.when(F.col(\"is_current\") == 1, F.lit(0)).otherwise(F.col(\"is_current\")))\n",
    "\n",
    "        unchanged_records = df_tgt.join(changed_records.select(\"subcategory_key\"), \"subcategory_key\", \"leftanti\")\n",
    "        \n",
    "        # Build the final DataFrame based on what we have\n",
    "        final_df = unchanged_records\n",
    "        \n",
    "        if changed_records_count > 0:\n",
    "            final_df = final_df.unionAll(old_versions).unionAll(new_versions)\n",
    "            \n",
    "        if new_records_count > 0:\n",
    "            final_df = final_df.unionAll(new_records)\n",
    "            \n",
    "        return final_df\n",
    "\n",
    "# Apply SCD Type 2 changes\n",
    "result_df = apply_scd_type2_changes(df_src, df_tgt)\n",
    "\n",
    "display(result_df)"
   ]
  },
  {
   "cell_type": "markdown",
   "metadata": {
    "application/vnd.databricks.v1+cell": {
     "cellMetadata": {},
     "inputWidgets": {},
     "nuid": "0613a47e-1013-4993-b6ba-3ea6419f6fc4",
     "showTitle": false,
     "tableResultSettingsMap": {},
     "title": ""
    }
   },
   "source": [
    "## Write data to catalog"
   ]
  },
  {
   "cell_type": "code",
   "execution_count": 0,
   "metadata": {
    "application/vnd.databricks.v1+cell": {
     "cellMetadata": {
      "byteLimit": 2048000,
      "rowLimit": 10000
     },
     "inputWidgets": {},
     "nuid": "740b97f5-a3de-4e45-a0f4-c7aa501bd8c9",
     "showTitle": false,
     "tableResultSettingsMap": {},
     "title": ""
    }
   },
   "outputs": [],
   "source": [
    "result_df.write.format('delta')\\\n",
    "                .mode('overwrite')\\\n",
    "                    .option('path', 'abfss://gold@contosoprojectstorage.dfs.core.windows.net/dim_sub')\\\n",
    "                        .saveAsTable('contoso_catalog.gold.dim_sub')"
   ]
  }
 ],
 "metadata": {
  "application/vnd.databricks.v1+notebook": {
   "computePreferences": null,
   "dashboards": [],
   "environmentMetadata": {
    "base_environment": "",
    "client": "1"
   },
   "language": "python",
   "notebookMetadata": {
    "mostRecentlyExecutedCommandWithImplicitDF": {
     "commandId": 240591878412930,
     "dataframes": [
      "_sqldf"
     ]
    },
    "pythonIndentUnit": 4
   },
   "notebookName": "dim_subcategory",
   "widgets": {}
  },
  "language_info": {
   "name": "python"
  }
 },
 "nbformat": 4,
 "nbformat_minor": 0
}